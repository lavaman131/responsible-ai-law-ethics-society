{
  "cells": [
    {
      "cell_type": "markdown",
      "metadata": {
        "id": "view-in-github",
        "colab_type": "text"
      },
      "source": [
        "<a href=\"https://colab.research.google.com/github/lavaman131/responsible-ai-law-ethics-society/blob/main/pre_class3.ipynb\" target=\"_parent\"><img src=\"https://colab.research.google.com/assets/colab-badge.svg\" alt=\"Open In Colab\"/></a>"
      ]
    },
    {
      "cell_type": "markdown",
      "metadata": {
        "id": "7xPuF47f-ECM"
      },
      "source": [
        "![banner](https://learn.responsibly.ai/assets/banner.jpg)\n",
        "\n",
        "# Class 3 - Discrimination & Fairness: Pre-Class Task\n",
        "\n",
        "https://learn.responsibly.ai"
      ]
    },
    {
      "cell_type": "markdown",
      "metadata": {
        "id": "5kaCEPTV-mmy"
      },
      "source": [
        "In the third class, we will dive into the challenge of fairness of machine learning models.\n",
        "\n",
        "In this pre-class task, you will develop a simple classification model that takes a short textual biography of a person and returns its occupation. The model doesn't need to be fancy, you can aim for a \"baseline\" model with basic preprocessing that achieves reasonable accuracy of at least 80% on the test dataset. For example, Linear Regression on Bag of Words should be sufficient, but feel free to explore more powerful model families. We recommend keeping it simple and use the `sklearn` package. Finally, you will store your model so that you will be able to load it into the notebook in class.\n",
        "\n",
        "Please go through the whole notebook before you start coding. You could plan your work better if you have first an overview of the task.\n",
        "\n",
        "If you have any questions, please post them in the `#ds` channel in Discord or join the office hours.\n",
        "\n",
        "Let's start!"
      ]
    },
    {
      "cell_type": "markdown",
      "metadata": {
        "id": "GDLFwEBGr3qD"
      },
      "source": [
        "## Setup"
      ]
    },
    {
      "cell_type": "code",
      "execution_count": 1,
      "metadata": {
        "id": "cLKFWGICWaMd"
      },
      "outputs": [],
      "source": [
        "%%bash\n",
        "\n",
        "wget --quiet https://stash.responsibly.ai/3-fairness/activity/data.zip"
      ]
    },
    {
      "cell_type": "code",
      "execution_count": 2,
      "metadata": {
        "id": "RnBxHABh_i3Q"
      },
      "outputs": [],
      "source": [
        "!unzip -oq data.zip"
      ]
    },
    {
      "cell_type": "code",
      "execution_count": 3,
      "metadata": {
        "id": "MoDJSDVMgDRZ"
      },
      "outputs": [],
      "source": [
        "import pandas as pd\n",
        "from IPython.display import display, Markdown"
      ]
    },
    {
      "cell_type": "markdown",
      "metadata": {
        "id": "vO1b2cRhr_jF"
      },
      "source": [
        "## Dataset"
      ]
    },
    {
      "cell_type": "code",
      "execution_count": 4,
      "metadata": {
        "id": "57nnfiuzgEyu"
      },
      "outputs": [],
      "source": [
        "train_df = pd.read_csv('./data/train.csv')\n",
        "test_df = pd.read_csv('./data/test.csv')"
      ]
    },
    {
      "cell_type": "markdown",
      "metadata": {
        "id": "nr0tl8qwse6a"
      },
      "source": [
        "The training dataset and the test dataset consists of multiple rows, one for each person, and two columns:\n",
        "1. `bio` - The biographies as text (i.e., `string`). This is the input to the model.\n",
        "1. `occupation` - The occupations of each person as text (i.e., `string`). This is the model's output."
      ]
    },
    {
      "cell_type": "code",
      "execution_count": 5,
      "metadata": {
        "id": "s6wWJuLcr-Qo",
        "colab": {
          "base_uri": "https://localhost:8080/",
          "height": 206
        },
        "outputId": "f0eae29f-9b8d-49d7-d6c1-855bc1ac96fe"
      },
      "outputs": [
        {
          "output_type": "execute_result",
          "data": {
            "text/plain": [
              "                                                 bio    occupation\n",
              "0   His research and teaching focus on security s...     professor\n",
              "1   He is currently associated with Shri Datta Ho...       dentist\n",
              "2   Dr. Swarthout is an analytical environmental ...     professor\n",
              "3   His work has appeared in major U.S. and Europ...  photographer\n",
              "4   He was born in the year 1977 in Rajshahi, hea...  photographer"
            ],
            "text/html": [
              "\n",
              "  <div id=\"df-f0b13c82-b78f-41dc-a454-a3e1217a06ce\" class=\"colab-df-container\">\n",
              "    <div>\n",
              "<style scoped>\n",
              "    .dataframe tbody tr th:only-of-type {\n",
              "        vertical-align: middle;\n",
              "    }\n",
              "\n",
              "    .dataframe tbody tr th {\n",
              "        vertical-align: top;\n",
              "    }\n",
              "\n",
              "    .dataframe thead th {\n",
              "        text-align: right;\n",
              "    }\n",
              "</style>\n",
              "<table border=\"1\" class=\"dataframe\">\n",
              "  <thead>\n",
              "    <tr style=\"text-align: right;\">\n",
              "      <th></th>\n",
              "      <th>bio</th>\n",
              "      <th>occupation</th>\n",
              "    </tr>\n",
              "  </thead>\n",
              "  <tbody>\n",
              "    <tr>\n",
              "      <th>0</th>\n",
              "      <td>His research and teaching focus on security s...</td>\n",
              "      <td>professor</td>\n",
              "    </tr>\n",
              "    <tr>\n",
              "      <th>1</th>\n",
              "      <td>He is currently associated with Shri Datta Ho...</td>\n",
              "      <td>dentist</td>\n",
              "    </tr>\n",
              "    <tr>\n",
              "      <th>2</th>\n",
              "      <td>Dr. Swarthout is an analytical environmental ...</td>\n",
              "      <td>professor</td>\n",
              "    </tr>\n",
              "    <tr>\n",
              "      <th>3</th>\n",
              "      <td>His work has appeared in major U.S. and Europ...</td>\n",
              "      <td>photographer</td>\n",
              "    </tr>\n",
              "    <tr>\n",
              "      <th>4</th>\n",
              "      <td>He was born in the year 1977 in Rajshahi, hea...</td>\n",
              "      <td>photographer</td>\n",
              "    </tr>\n",
              "  </tbody>\n",
              "</table>\n",
              "</div>\n",
              "    <div class=\"colab-df-buttons\">\n",
              "\n",
              "  <div class=\"colab-df-container\">\n",
              "    <button class=\"colab-df-convert\" onclick=\"convertToInteractive('df-f0b13c82-b78f-41dc-a454-a3e1217a06ce')\"\n",
              "            title=\"Convert this dataframe to an interactive table.\"\n",
              "            style=\"display:none;\">\n",
              "\n",
              "  <svg xmlns=\"http://www.w3.org/2000/svg\" height=\"24px\" viewBox=\"0 -960 960 960\">\n",
              "    <path d=\"M120-120v-720h720v720H120Zm60-500h600v-160H180v160Zm220 220h160v-160H400v160Zm0 220h160v-160H400v160ZM180-400h160v-160H180v160Zm440 0h160v-160H620v160ZM180-180h160v-160H180v160Zm440 0h160v-160H620v160Z\"/>\n",
              "  </svg>\n",
              "    </button>\n",
              "\n",
              "  <style>\n",
              "    .colab-df-container {\n",
              "      display:flex;\n",
              "      gap: 12px;\n",
              "    }\n",
              "\n",
              "    .colab-df-convert {\n",
              "      background-color: #E8F0FE;\n",
              "      border: none;\n",
              "      border-radius: 50%;\n",
              "      cursor: pointer;\n",
              "      display: none;\n",
              "      fill: #1967D2;\n",
              "      height: 32px;\n",
              "      padding: 0 0 0 0;\n",
              "      width: 32px;\n",
              "    }\n",
              "\n",
              "    .colab-df-convert:hover {\n",
              "      background-color: #E2EBFA;\n",
              "      box-shadow: 0px 1px 2px rgba(60, 64, 67, 0.3), 0px 1px 3px 1px rgba(60, 64, 67, 0.15);\n",
              "      fill: #174EA6;\n",
              "    }\n",
              "\n",
              "    .colab-df-buttons div {\n",
              "      margin-bottom: 4px;\n",
              "    }\n",
              "\n",
              "    [theme=dark] .colab-df-convert {\n",
              "      background-color: #3B4455;\n",
              "      fill: #D2E3FC;\n",
              "    }\n",
              "\n",
              "    [theme=dark] .colab-df-convert:hover {\n",
              "      background-color: #434B5C;\n",
              "      box-shadow: 0px 1px 3px 1px rgba(0, 0, 0, 0.15);\n",
              "      filter: drop-shadow(0px 1px 2px rgba(0, 0, 0, 0.3));\n",
              "      fill: #FFFFFF;\n",
              "    }\n",
              "  </style>\n",
              "\n",
              "    <script>\n",
              "      const buttonEl =\n",
              "        document.querySelector('#df-f0b13c82-b78f-41dc-a454-a3e1217a06ce button.colab-df-convert');\n",
              "      buttonEl.style.display =\n",
              "        google.colab.kernel.accessAllowed ? 'block' : 'none';\n",
              "\n",
              "      async function convertToInteractive(key) {\n",
              "        const element = document.querySelector('#df-f0b13c82-b78f-41dc-a454-a3e1217a06ce');\n",
              "        const dataTable =\n",
              "          await google.colab.kernel.invokeFunction('convertToInteractive',\n",
              "                                                    [key], {});\n",
              "        if (!dataTable) return;\n",
              "\n",
              "        const docLinkHtml = 'Like what you see? Visit the ' +\n",
              "          '<a target=\"_blank\" href=https://colab.research.google.com/notebooks/data_table.ipynb>data table notebook</a>'\n",
              "          + ' to learn more about interactive tables.';\n",
              "        element.innerHTML = '';\n",
              "        dataTable['output_type'] = 'display_data';\n",
              "        await google.colab.output.renderOutput(dataTable, element);\n",
              "        const docLink = document.createElement('div');\n",
              "        docLink.innerHTML = docLinkHtml;\n",
              "        element.appendChild(docLink);\n",
              "      }\n",
              "    </script>\n",
              "  </div>\n",
              "\n",
              "\n",
              "<div id=\"df-361580c3-7f33-4e0d-8526-a38b5f201b38\">\n",
              "  <button class=\"colab-df-quickchart\" onclick=\"quickchart('df-361580c3-7f33-4e0d-8526-a38b5f201b38')\"\n",
              "            title=\"Suggest charts\"\n",
              "            style=\"display:none;\">\n",
              "\n",
              "<svg xmlns=\"http://www.w3.org/2000/svg\" height=\"24px\"viewBox=\"0 0 24 24\"\n",
              "     width=\"24px\">\n",
              "    <g>\n",
              "        <path d=\"M19 3H5c-1.1 0-2 .9-2 2v14c0 1.1.9 2 2 2h14c1.1 0 2-.9 2-2V5c0-1.1-.9-2-2-2zM9 17H7v-7h2v7zm4 0h-2V7h2v10zm4 0h-2v-4h2v4z\"/>\n",
              "    </g>\n",
              "</svg>\n",
              "  </button>\n",
              "\n",
              "<style>\n",
              "  .colab-df-quickchart {\n",
              "      --bg-color: #E8F0FE;\n",
              "      --fill-color: #1967D2;\n",
              "      --hover-bg-color: #E2EBFA;\n",
              "      --hover-fill-color: #174EA6;\n",
              "      --disabled-fill-color: #AAA;\n",
              "      --disabled-bg-color: #DDD;\n",
              "  }\n",
              "\n",
              "  [theme=dark] .colab-df-quickchart {\n",
              "      --bg-color: #3B4455;\n",
              "      --fill-color: #D2E3FC;\n",
              "      --hover-bg-color: #434B5C;\n",
              "      --hover-fill-color: #FFFFFF;\n",
              "      --disabled-bg-color: #3B4455;\n",
              "      --disabled-fill-color: #666;\n",
              "  }\n",
              "\n",
              "  .colab-df-quickchart {\n",
              "    background-color: var(--bg-color);\n",
              "    border: none;\n",
              "    border-radius: 50%;\n",
              "    cursor: pointer;\n",
              "    display: none;\n",
              "    fill: var(--fill-color);\n",
              "    height: 32px;\n",
              "    padding: 0;\n",
              "    width: 32px;\n",
              "  }\n",
              "\n",
              "  .colab-df-quickchart:hover {\n",
              "    background-color: var(--hover-bg-color);\n",
              "    box-shadow: 0 1px 2px rgba(60, 64, 67, 0.3), 0 1px 3px 1px rgba(60, 64, 67, 0.15);\n",
              "    fill: var(--button-hover-fill-color);\n",
              "  }\n",
              "\n",
              "  .colab-df-quickchart-complete:disabled,\n",
              "  .colab-df-quickchart-complete:disabled:hover {\n",
              "    background-color: var(--disabled-bg-color);\n",
              "    fill: var(--disabled-fill-color);\n",
              "    box-shadow: none;\n",
              "  }\n",
              "\n",
              "  .colab-df-spinner {\n",
              "    border: 2px solid var(--fill-color);\n",
              "    border-color: transparent;\n",
              "    border-bottom-color: var(--fill-color);\n",
              "    animation:\n",
              "      spin 1s steps(1) infinite;\n",
              "  }\n",
              "\n",
              "  @keyframes spin {\n",
              "    0% {\n",
              "      border-color: transparent;\n",
              "      border-bottom-color: var(--fill-color);\n",
              "      border-left-color: var(--fill-color);\n",
              "    }\n",
              "    20% {\n",
              "      border-color: transparent;\n",
              "      border-left-color: var(--fill-color);\n",
              "      border-top-color: var(--fill-color);\n",
              "    }\n",
              "    30% {\n",
              "      border-color: transparent;\n",
              "      border-left-color: var(--fill-color);\n",
              "      border-top-color: var(--fill-color);\n",
              "      border-right-color: var(--fill-color);\n",
              "    }\n",
              "    40% {\n",
              "      border-color: transparent;\n",
              "      border-right-color: var(--fill-color);\n",
              "      border-top-color: var(--fill-color);\n",
              "    }\n",
              "    60% {\n",
              "      border-color: transparent;\n",
              "      border-right-color: var(--fill-color);\n",
              "    }\n",
              "    80% {\n",
              "      border-color: transparent;\n",
              "      border-right-color: var(--fill-color);\n",
              "      border-bottom-color: var(--fill-color);\n",
              "    }\n",
              "    90% {\n",
              "      border-color: transparent;\n",
              "      border-bottom-color: var(--fill-color);\n",
              "    }\n",
              "  }\n",
              "</style>\n",
              "\n",
              "  <script>\n",
              "    async function quickchart(key) {\n",
              "      const quickchartButtonEl =\n",
              "        document.querySelector('#' + key + ' button');\n",
              "      quickchartButtonEl.disabled = true;  // To prevent multiple clicks.\n",
              "      quickchartButtonEl.classList.add('colab-df-spinner');\n",
              "      try {\n",
              "        const charts = await google.colab.kernel.invokeFunction(\n",
              "            'suggestCharts', [key], {});\n",
              "      } catch (error) {\n",
              "        console.error('Error during call to suggestCharts:', error);\n",
              "      }\n",
              "      quickchartButtonEl.classList.remove('colab-df-spinner');\n",
              "      quickchartButtonEl.classList.add('colab-df-quickchart-complete');\n",
              "    }\n",
              "    (() => {\n",
              "      let quickchartButtonEl =\n",
              "        document.querySelector('#df-361580c3-7f33-4e0d-8526-a38b5f201b38 button');\n",
              "      quickchartButtonEl.style.display =\n",
              "        google.colab.kernel.accessAllowed ? 'block' : 'none';\n",
              "    })();\n",
              "  </script>\n",
              "</div>\n",
              "    </div>\n",
              "  </div>\n"
            ]
          },
          "metadata": {},
          "execution_count": 5
        }
      ],
      "source": [
        "train_df.head()"
      ]
    },
    {
      "cell_type": "code",
      "execution_count": 6,
      "metadata": {
        "id": "OAVzyhBC9plG",
        "colab": {
          "base_uri": "https://localhost:8080/",
          "height": 206
        },
        "outputId": "023f2901-b4ed-40c7-ebaf-c93c502be190"
      },
      "outputs": [
        {
          "output_type": "execute_result",
          "data": {
            "text/plain": [
              "                                                 bio occupation\n",
              "0   He has worked at the University of Valencia, ...   attorney\n",
              "1   Nick Romano is his client, a young man with a...   attorney\n",
              "2   In this position, he has written several best...  physician\n",
              "3   His research focuses on using traditional and...  professor\n",
              "4   His music to the period supernatural film The...   composer"
            ],
            "text/html": [
              "\n",
              "  <div id=\"df-9b1825f1-b9d3-4272-8655-afaba3b8d238\" class=\"colab-df-container\">\n",
              "    <div>\n",
              "<style scoped>\n",
              "    .dataframe tbody tr th:only-of-type {\n",
              "        vertical-align: middle;\n",
              "    }\n",
              "\n",
              "    .dataframe tbody tr th {\n",
              "        vertical-align: top;\n",
              "    }\n",
              "\n",
              "    .dataframe thead th {\n",
              "        text-align: right;\n",
              "    }\n",
              "</style>\n",
              "<table border=\"1\" class=\"dataframe\">\n",
              "  <thead>\n",
              "    <tr style=\"text-align: right;\">\n",
              "      <th></th>\n",
              "      <th>bio</th>\n",
              "      <th>occupation</th>\n",
              "    </tr>\n",
              "  </thead>\n",
              "  <tbody>\n",
              "    <tr>\n",
              "      <th>0</th>\n",
              "      <td>He has worked at the University of Valencia, ...</td>\n",
              "      <td>attorney</td>\n",
              "    </tr>\n",
              "    <tr>\n",
              "      <th>1</th>\n",
              "      <td>Nick Romano is his client, a young man with a...</td>\n",
              "      <td>attorney</td>\n",
              "    </tr>\n",
              "    <tr>\n",
              "      <th>2</th>\n",
              "      <td>In this position, he has written several best...</td>\n",
              "      <td>physician</td>\n",
              "    </tr>\n",
              "    <tr>\n",
              "      <th>3</th>\n",
              "      <td>His research focuses on using traditional and...</td>\n",
              "      <td>professor</td>\n",
              "    </tr>\n",
              "    <tr>\n",
              "      <th>4</th>\n",
              "      <td>His music to the period supernatural film The...</td>\n",
              "      <td>composer</td>\n",
              "    </tr>\n",
              "  </tbody>\n",
              "</table>\n",
              "</div>\n",
              "    <div class=\"colab-df-buttons\">\n",
              "\n",
              "  <div class=\"colab-df-container\">\n",
              "    <button class=\"colab-df-convert\" onclick=\"convertToInteractive('df-9b1825f1-b9d3-4272-8655-afaba3b8d238')\"\n",
              "            title=\"Convert this dataframe to an interactive table.\"\n",
              "            style=\"display:none;\">\n",
              "\n",
              "  <svg xmlns=\"http://www.w3.org/2000/svg\" height=\"24px\" viewBox=\"0 -960 960 960\">\n",
              "    <path d=\"M120-120v-720h720v720H120Zm60-500h600v-160H180v160Zm220 220h160v-160H400v160Zm0 220h160v-160H400v160ZM180-400h160v-160H180v160Zm440 0h160v-160H620v160ZM180-180h160v-160H180v160Zm440 0h160v-160H620v160Z\"/>\n",
              "  </svg>\n",
              "    </button>\n",
              "\n",
              "  <style>\n",
              "    .colab-df-container {\n",
              "      display:flex;\n",
              "      gap: 12px;\n",
              "    }\n",
              "\n",
              "    .colab-df-convert {\n",
              "      background-color: #E8F0FE;\n",
              "      border: none;\n",
              "      border-radius: 50%;\n",
              "      cursor: pointer;\n",
              "      display: none;\n",
              "      fill: #1967D2;\n",
              "      height: 32px;\n",
              "      padding: 0 0 0 0;\n",
              "      width: 32px;\n",
              "    }\n",
              "\n",
              "    .colab-df-convert:hover {\n",
              "      background-color: #E2EBFA;\n",
              "      box-shadow: 0px 1px 2px rgba(60, 64, 67, 0.3), 0px 1px 3px 1px rgba(60, 64, 67, 0.15);\n",
              "      fill: #174EA6;\n",
              "    }\n",
              "\n",
              "    .colab-df-buttons div {\n",
              "      margin-bottom: 4px;\n",
              "    }\n",
              "\n",
              "    [theme=dark] .colab-df-convert {\n",
              "      background-color: #3B4455;\n",
              "      fill: #D2E3FC;\n",
              "    }\n",
              "\n",
              "    [theme=dark] .colab-df-convert:hover {\n",
              "      background-color: #434B5C;\n",
              "      box-shadow: 0px 1px 3px 1px rgba(0, 0, 0, 0.15);\n",
              "      filter: drop-shadow(0px 1px 2px rgba(0, 0, 0, 0.3));\n",
              "      fill: #FFFFFF;\n",
              "    }\n",
              "  </style>\n",
              "\n",
              "    <script>\n",
              "      const buttonEl =\n",
              "        document.querySelector('#df-9b1825f1-b9d3-4272-8655-afaba3b8d238 button.colab-df-convert');\n",
              "      buttonEl.style.display =\n",
              "        google.colab.kernel.accessAllowed ? 'block' : 'none';\n",
              "\n",
              "      async function convertToInteractive(key) {\n",
              "        const element = document.querySelector('#df-9b1825f1-b9d3-4272-8655-afaba3b8d238');\n",
              "        const dataTable =\n",
              "          await google.colab.kernel.invokeFunction('convertToInteractive',\n",
              "                                                    [key], {});\n",
              "        if (!dataTable) return;\n",
              "\n",
              "        const docLinkHtml = 'Like what you see? Visit the ' +\n",
              "          '<a target=\"_blank\" href=https://colab.research.google.com/notebooks/data_table.ipynb>data table notebook</a>'\n",
              "          + ' to learn more about interactive tables.';\n",
              "        element.innerHTML = '';\n",
              "        dataTable['output_type'] = 'display_data';\n",
              "        await google.colab.output.renderOutput(dataTable, element);\n",
              "        const docLink = document.createElement('div');\n",
              "        docLink.innerHTML = docLinkHtml;\n",
              "        element.appendChild(docLink);\n",
              "      }\n",
              "    </script>\n",
              "  </div>\n",
              "\n",
              "\n",
              "<div id=\"df-dc28f9f6-f0c4-4395-a85c-9eca60244b9e\">\n",
              "  <button class=\"colab-df-quickchart\" onclick=\"quickchart('df-dc28f9f6-f0c4-4395-a85c-9eca60244b9e')\"\n",
              "            title=\"Suggest charts\"\n",
              "            style=\"display:none;\">\n",
              "\n",
              "<svg xmlns=\"http://www.w3.org/2000/svg\" height=\"24px\"viewBox=\"0 0 24 24\"\n",
              "     width=\"24px\">\n",
              "    <g>\n",
              "        <path d=\"M19 3H5c-1.1 0-2 .9-2 2v14c0 1.1.9 2 2 2h14c1.1 0 2-.9 2-2V5c0-1.1-.9-2-2-2zM9 17H7v-7h2v7zm4 0h-2V7h2v10zm4 0h-2v-4h2v4z\"/>\n",
              "    </g>\n",
              "</svg>\n",
              "  </button>\n",
              "\n",
              "<style>\n",
              "  .colab-df-quickchart {\n",
              "      --bg-color: #E8F0FE;\n",
              "      --fill-color: #1967D2;\n",
              "      --hover-bg-color: #E2EBFA;\n",
              "      --hover-fill-color: #174EA6;\n",
              "      --disabled-fill-color: #AAA;\n",
              "      --disabled-bg-color: #DDD;\n",
              "  }\n",
              "\n",
              "  [theme=dark] .colab-df-quickchart {\n",
              "      --bg-color: #3B4455;\n",
              "      --fill-color: #D2E3FC;\n",
              "      --hover-bg-color: #434B5C;\n",
              "      --hover-fill-color: #FFFFFF;\n",
              "      --disabled-bg-color: #3B4455;\n",
              "      --disabled-fill-color: #666;\n",
              "  }\n",
              "\n",
              "  .colab-df-quickchart {\n",
              "    background-color: var(--bg-color);\n",
              "    border: none;\n",
              "    border-radius: 50%;\n",
              "    cursor: pointer;\n",
              "    display: none;\n",
              "    fill: var(--fill-color);\n",
              "    height: 32px;\n",
              "    padding: 0;\n",
              "    width: 32px;\n",
              "  }\n",
              "\n",
              "  .colab-df-quickchart:hover {\n",
              "    background-color: var(--hover-bg-color);\n",
              "    box-shadow: 0 1px 2px rgba(60, 64, 67, 0.3), 0 1px 3px 1px rgba(60, 64, 67, 0.15);\n",
              "    fill: var(--button-hover-fill-color);\n",
              "  }\n",
              "\n",
              "  .colab-df-quickchart-complete:disabled,\n",
              "  .colab-df-quickchart-complete:disabled:hover {\n",
              "    background-color: var(--disabled-bg-color);\n",
              "    fill: var(--disabled-fill-color);\n",
              "    box-shadow: none;\n",
              "  }\n",
              "\n",
              "  .colab-df-spinner {\n",
              "    border: 2px solid var(--fill-color);\n",
              "    border-color: transparent;\n",
              "    border-bottom-color: var(--fill-color);\n",
              "    animation:\n",
              "      spin 1s steps(1) infinite;\n",
              "  }\n",
              "\n",
              "  @keyframes spin {\n",
              "    0% {\n",
              "      border-color: transparent;\n",
              "      border-bottom-color: var(--fill-color);\n",
              "      border-left-color: var(--fill-color);\n",
              "    }\n",
              "    20% {\n",
              "      border-color: transparent;\n",
              "      border-left-color: var(--fill-color);\n",
              "      border-top-color: var(--fill-color);\n",
              "    }\n",
              "    30% {\n",
              "      border-color: transparent;\n",
              "      border-left-color: var(--fill-color);\n",
              "      border-top-color: var(--fill-color);\n",
              "      border-right-color: var(--fill-color);\n",
              "    }\n",
              "    40% {\n",
              "      border-color: transparent;\n",
              "      border-right-color: var(--fill-color);\n",
              "      border-top-color: var(--fill-color);\n",
              "    }\n",
              "    60% {\n",
              "      border-color: transparent;\n",
              "      border-right-color: var(--fill-color);\n",
              "    }\n",
              "    80% {\n",
              "      border-color: transparent;\n",
              "      border-right-color: var(--fill-color);\n",
              "      border-bottom-color: var(--fill-color);\n",
              "    }\n",
              "    90% {\n",
              "      border-color: transparent;\n",
              "      border-bottom-color: var(--fill-color);\n",
              "    }\n",
              "  }\n",
              "</style>\n",
              "\n",
              "  <script>\n",
              "    async function quickchart(key) {\n",
              "      const quickchartButtonEl =\n",
              "        document.querySelector('#' + key + ' button');\n",
              "      quickchartButtonEl.disabled = true;  // To prevent multiple clicks.\n",
              "      quickchartButtonEl.classList.add('colab-df-spinner');\n",
              "      try {\n",
              "        const charts = await google.colab.kernel.invokeFunction(\n",
              "            'suggestCharts', [key], {});\n",
              "      } catch (error) {\n",
              "        console.error('Error during call to suggestCharts:', error);\n",
              "      }\n",
              "      quickchartButtonEl.classList.remove('colab-df-spinner');\n",
              "      quickchartButtonEl.classList.add('colab-df-quickchart-complete');\n",
              "    }\n",
              "    (() => {\n",
              "      let quickchartButtonEl =\n",
              "        document.querySelector('#df-dc28f9f6-f0c4-4395-a85c-9eca60244b9e button');\n",
              "      quickchartButtonEl.style.display =\n",
              "        google.colab.kernel.accessAllowed ? 'block' : 'none';\n",
              "    })();\n",
              "  </script>\n",
              "</div>\n",
              "    </div>\n",
              "  </div>\n"
            ]
          },
          "metadata": {},
          "execution_count": 6
        }
      ],
      "source": [
        "test_df.head()"
      ]
    },
    {
      "cell_type": "markdown",
      "metadata": {
        "id": "1uPt7Rv6sho4"
      },
      "source": [
        "We used 75%-25% split between the training and the test dataset:"
      ]
    },
    {
      "cell_type": "code",
      "execution_count": 7,
      "metadata": {
        "id": "HaJpWBD_jQpE",
        "colab": {
          "base_uri": "https://localhost:8080/"
        },
        "outputId": "dd4da94f-c349-4f02-a344-ee2d9d3181b4"
      },
      "outputs": [
        {
          "output_type": "stream",
          "name": "stdout",
          "text": [
            "# train: 280470\n",
            "# test: 93492\n"
          ]
        }
      ],
      "source": [
        "print(f'# train: {len(train_df)}')\n",
        "print(f'# test: {len(test_df)}')"
      ]
    },
    {
      "cell_type": "markdown",
      "metadata": {
        "id": "vlBUnwJcsvI4"
      },
      "source": [
        "There are 28 occupations:"
      ]
    },
    {
      "cell_type": "code",
      "execution_count": 8,
      "metadata": {
        "id": "Vh6O8fYksvZc",
        "colab": {
          "base_uri": "https://localhost:8080/"
        },
        "outputId": "62bb3464-04b1-44fa-8679-b91687347e0f"
      },
      "outputs": [
        {
          "output_type": "execute_result",
          "data": {
            "text/plain": [
              "['accountant',\n",
              " 'architect',\n",
              " 'attorney',\n",
              " 'chiropractor',\n",
              " 'comedian',\n",
              " 'composer',\n",
              " 'dentist',\n",
              " 'dietitian',\n",
              " 'dj',\n",
              " 'filmmaker',\n",
              " 'interior_designer',\n",
              " 'journalist',\n",
              " 'model',\n",
              " 'nurse',\n",
              " 'painter',\n",
              " 'paralegal',\n",
              " 'pastor',\n",
              " 'personal_trainer',\n",
              " 'photographer',\n",
              " 'physician',\n",
              " 'poet',\n",
              " 'professor',\n",
              " 'psychologist',\n",
              " 'rapper',\n",
              " 'software_engineer',\n",
              " 'surgeon',\n",
              " 'teacher',\n",
              " 'yoga_teacher']"
            ]
          },
          "metadata": {},
          "execution_count": 8
        }
      ],
      "source": [
        "sorted(train_df['occupation'].unique())"
      ]
    },
    {
      "cell_type": "markdown",
      "metadata": {
        "id": "w4pVCAm0so-h"
      },
      "source": [
        "Each running of the next cell will sample 10 random rows and show their occupations and biographies:"
      ]
    },
    {
      "cell_type": "code",
      "execution_count": 9,
      "metadata": {
        "id": "Kysov0YvgfyP",
        "colab": {
          "base_uri": "https://localhost:8080/",
          "height": 936
        },
        "outputId": "581e5b59-c57e-4dec-f2c9-be9fd362920b"
      },
      "outputs": [
        {
          "output_type": "display_data",
          "data": {
            "text/plain": [
              "<IPython.core.display.Markdown object>"
            ],
            "text/markdown": "### Ground-Truth Occupation: professor"
          },
          "metadata": {}
        },
        {
          "output_type": "display_data",
          "data": {
            "text/plain": [
              "<IPython.core.display.Markdown object>"
            ],
            "text/markdown": " Her research interests include health economics, disability policy, labor economics, and social insurance programs. Her past work includes estimating the effect of the ACA Medicaid expansions on federal disability insurance applications, examining the relationship between rising health insurance costs and employee compensation, and analyzing the time use of people with disabilities. Her work has been published in journals such as Health Economics, Demography, and the Psychiatric Rehabilitation Journal. Before joining George Mason, Anand was a senior researcher at Mathematica Policy Research."
          },
          "metadata": {}
        },
        {
          "output_type": "display_data",
          "data": {
            "text/plain": [
              "<IPython.core.display.Markdown object>"
            ],
            "text/markdown": "### Ground-Truth Occupation: journalist"
          },
          "metadata": {}
        },
        {
          "output_type": "display_data",
          "data": {
            "text/plain": [
              "<IPython.core.display.Markdown object>"
            ],
            "text/markdown": " He graduated from Marshall University in 2014 with a degree in journalism. An unabashed Appalachian, Culvyhouse took a hiatus from the news industry to try to carve himself a holler somewhere in the Ohio River Valley."
          },
          "metadata": {}
        },
        {
          "output_type": "display_data",
          "data": {
            "text/plain": [
              "<IPython.core.display.Markdown object>"
            ],
            "text/markdown": "### Ground-Truth Occupation: model"
          },
          "metadata": {}
        },
        {
          "output_type": "display_data",
          "data": {
            "text/plain": [
              "<IPython.core.display.Markdown object>"
            ],
            "text/markdown": " She was born in Huntington Beach on August 11, 1982. She is listed on FreeOnes since 2003 and is currently ranked 10050th place. She currently has 21 gallery links in her own FreeOnes section."
          },
          "metadata": {}
        },
        {
          "output_type": "display_data",
          "data": {
            "text/plain": [
              "<IPython.core.display.Markdown object>"
            ],
            "text/markdown": "### Ground-Truth Occupation: journalist"
          },
          "metadata": {}
        },
        {
          "output_type": "display_data",
          "data": {
            "text/plain": [
              "<IPython.core.display.Markdown object>"
            ],
            "text/markdown": " She is currently a Financial Reporter for Business Media Group’s Global Islamic Finance Magazine. She was short listed for the Young Journalist of the Year 2011 at the Muslim Writers Awards. For more information visit her website at www.tasnimnazeer.com"
          },
          "metadata": {}
        },
        {
          "output_type": "display_data",
          "data": {
            "text/plain": [
              "<IPython.core.display.Markdown object>"
            ],
            "text/markdown": "### Ground-Truth Occupation: journalist"
          },
          "metadata": {}
        },
        {
          "output_type": "display_data",
          "data": {
            "text/plain": [
              "<IPython.core.display.Markdown object>"
            ],
            "text/markdown": " He also reports for Al-Qabas, a newspaper based in Kuwait, and for Radio Montecarlo. In this interview, Melhem reviews the evolution of Arab and Muslim nations' perspective on United States policies and actions in the Middle East, especially during the U.S. intervention in Lebanon during the 1980s. He also explores how Osama bin Laden and his contemporaries differ from the militant Islamic movements such as the Lebanese Hezbollah, which confronted the Reagan administration. Interview conducted late September 2001."
          },
          "metadata": {}
        },
        {
          "output_type": "display_data",
          "data": {
            "text/plain": [
              "<IPython.core.display.Markdown object>"
            ],
            "text/markdown": "### Ground-Truth Occupation: psychologist"
          },
          "metadata": {}
        },
        {
          "output_type": "display_data",
          "data": {
            "text/plain": [
              "<IPython.core.display.Markdown object>"
            ],
            "text/markdown": " Dr. Summerfield has a Ph.D. in Professional Psychology, and a Masters degree in Counseling and Speech. He specializes in cognitive–behavioral therapy for anxiety, depression, pain management, addiction, and support for cancer patients or survivors. Office locations in Westlake Village, CA. Visit his website at www.lestersummerfield.com or call (805) 496-6992 to schedule an appointment."
          },
          "metadata": {}
        },
        {
          "output_type": "display_data",
          "data": {
            "text/plain": [
              "<IPython.core.display.Markdown object>"
            ],
            "text/markdown": "### Ground-Truth Occupation: attorney"
          },
          "metadata": {}
        },
        {
          "output_type": "display_data",
          "data": {
            "text/plain": [
              "<IPython.core.display.Markdown object>"
            ],
            "text/markdown": " He specializes in affordable housing law and helping domestic violence victims reclaim their lives. He was a Fulbright fellow at the University of Alberta Faculty of Law and earned a J.D. in 2006 from the University of Idaho College of Law. He can be reached at (208) 345-0106, ext. 103, or by e-mail at richieeppink@idaholegalaid.org."
          },
          "metadata": {}
        },
        {
          "output_type": "display_data",
          "data": {
            "text/plain": [
              "<IPython.core.display.Markdown object>"
            ],
            "text/markdown": "### Ground-Truth Occupation: surgeon"
          },
          "metadata": {}
        },
        {
          "output_type": "display_data",
          "data": {
            "text/plain": [
              "<IPython.core.display.Markdown object>"
            ],
            "text/markdown": " He earned his medical degree at Georgetown University School of Medicine and then went on to complete a general surgery residency program at Columbia University—New York Presbyterian Hospital, where he served as Chief Surgery Resident for Robotic Surgery. Prior to joining MedStar Franklin Square’s team, he pursued a colorectal surgery fellowship at the Cleveland Clinic Florida, learning novel, advanced laparoscopic techniques."
          },
          "metadata": {}
        },
        {
          "output_type": "display_data",
          "data": {
            "text/plain": [
              "<IPython.core.display.Markdown object>"
            ],
            "text/markdown": "### Ground-Truth Occupation: model"
          },
          "metadata": {}
        },
        {
          "output_type": "display_data",
          "data": {
            "text/plain": [
              "<IPython.core.display.Markdown object>"
            ],
            "text/markdown": " Her carreer has also linked in with high profile advertising campaigns and also acting and music, videos and films, including Cool As Ice and Miami Rhapsody."
          },
          "metadata": {}
        },
        {
          "output_type": "display_data",
          "data": {
            "text/plain": [
              "<IPython.core.display.Markdown object>"
            ],
            "text/markdown": "### Ground-Truth Occupation: attorney"
          },
          "metadata": {}
        },
        {
          "output_type": "display_data",
          "data": {
            "text/plain": [
              "<IPython.core.display.Markdown object>"
            ],
            "text/markdown": " He has lived in Alaska for 21 years, and practiced law for 15. Mr. Peterson has a B.A. in Economics from the University of Alaska Anchorage, and J.D. from the University of San Diego School of Law. Following law school, he worked as a civil litigator specializing in employment law in San Diego before returning to Alaska to serve in the District Attorney’s Office. Mr. Peterson has worked in the Office of Special Prosecutions since 2007, and also co-owns and operates a sport fishing guide service on the Kenai Peninsula. He, his wife, and their two children live in Anchorage."
          },
          "metadata": {}
        }
      ],
      "source": [
        "for _, row in train_df.sample(10).iterrows():\n",
        "    display(Markdown('### Ground-Truth Occupation: ' + row['occupation']))\n",
        "    display(Markdown(row['bio']))"
      ]
    },
    {
      "cell_type": "markdown",
      "metadata": {
        "id": "rwAD1w0dtg7o"
      },
      "source": [
        "## Your turn!"
      ]
    },
    {
      "cell_type": "markdown",
      "metadata": {
        "id": "EQ4cIjub61Hm"
      },
      "source": [
        "### Training"
      ]
    },
    {
      "cell_type": "markdown",
      "metadata": {
        "id": "i_nkiZFO61TL"
      },
      "source": [
        "Train a model on the training dataset and ensure that your model achieves at least 80% accuracy on the test dataset. Please use the variable name `model` to hold your model object (e.g., sklearn's LogisticRegression, PyTorch model, ...)."
      ]
    },
    {
      "cell_type": "code",
      "source": [
        "import numpy as np\n",
        "import matplotlib.pyplot as plt\n",
        "import matplotlib_inline\n",
        "import seaborn as sns\n",
        "# get higher quality plots\n",
        "matplotlib_inline.backend_inline.set_matplotlib_formats('retina')\n",
        "plt.style.use(\"fivethirtyeight\")"
      ],
      "metadata": {
        "id": "QgDiVVEtnOz_"
      },
      "execution_count": 10,
      "outputs": []
    },
    {
      "cell_type": "code",
      "source": [
        "word_lengths = [len(text.split()) for text in train_df.bio]"
      ],
      "metadata": {
        "id": "wo4pNxK6zc9T"
      },
      "execution_count": 11,
      "outputs": []
    },
    {
      "cell_type": "code",
      "source": [
        "print(\"The average text length in the training corpus is\", np.mean(word_lengths))\n",
        "print(\"The max text length in the training corpus is\", np.max(word_lengths))"
      ],
      "metadata": {
        "colab": {
          "base_uri": "https://localhost:8080/"
        },
        "id": "lMwXJWST0idD",
        "outputId": "482fd1c5-e283-4ab3-c59f-4eee1f786956"
      },
      "execution_count": 12,
      "outputs": [
        {
          "output_type": "stream",
          "name": "stdout",
          "text": [
            "The average text length in the training corpus is 58.67281349163903\n",
            "The max text length in the training corpus is 175\n"
          ]
        }
      ]
    },
    {
      "cell_type": "code",
      "source": [
        "from sklearn.feature_extraction.text import CountVectorizer\n",
        "\n",
        "vectorizer = CountVectorizer()\n",
        "\n",
        "X_train = vectorizer.fit_transform(train_df.bio)\n",
        "X_test = vectorizer.transform(test_df.bio)"
      ],
      "metadata": {
        "id": "dowEIaALII74"
      },
      "execution_count": 13,
      "outputs": []
    },
    {
      "cell_type": "code",
      "source": [
        "from sklearn.preprocessing import LabelEncoder\n",
        "\n",
        "# preprocessing labels\n",
        "le = LabelEncoder()\n",
        "y_train = le.fit_transform(train_df.occupation)\n",
        "y_test = le.transform(test_df.occupation)"
      ],
      "metadata": {
        "id": "5nU2ZDZJc6Ij"
      },
      "execution_count": 14,
      "outputs": []
    },
    {
      "cell_type": "code",
      "source": [
        "le.classes_"
      ],
      "metadata": {
        "colab": {
          "base_uri": "https://localhost:8080/"
        },
        "id": "mZtdbqdSdJkg",
        "outputId": "b3c49d25-0768-4ae8-c0f5-99cfbeb420c9"
      },
      "execution_count": 15,
      "outputs": [
        {
          "output_type": "execute_result",
          "data": {
            "text/plain": [
              "array(['accountant', 'architect', 'attorney', 'chiropractor', 'comedian',\n",
              "       'composer', 'dentist', 'dietitian', 'dj', 'filmmaker',\n",
              "       'interior_designer', 'journalist', 'model', 'nurse', 'painter',\n",
              "       'paralegal', 'pastor', 'personal_trainer', 'photographer',\n",
              "       'physician', 'poet', 'professor', 'psychologist', 'rapper',\n",
              "       'software_engineer', 'surgeon', 'teacher', 'yoga_teacher'],\n",
              "      dtype=object)"
            ]
          },
          "metadata": {},
          "execution_count": 15
        }
      ]
    },
    {
      "cell_type": "code",
      "source": [
        "X_train.shape, y_train.shape, X_test.shape, y_test.shape"
      ],
      "metadata": {
        "colab": {
          "base_uri": "https://localhost:8080/"
        },
        "id": "kULhaSMqCSgU",
        "outputId": "6ae93d2f-a146-4cf2-fef7-89e0e7eb089c"
      },
      "execution_count": 16,
      "outputs": [
        {
          "output_type": "execute_result",
          "data": {
            "text/plain": [
              "((280470, 187353), (280470,), (93492, 187353), (93492,))"
            ]
          },
          "metadata": {},
          "execution_count": 16
        }
      ]
    },
    {
      "cell_type": "code",
      "execution_count": 17,
      "metadata": {
        "id": "tchtyBFBtPjY",
        "colab": {
          "base_uri": "https://localhost:8080/",
          "height": 130
        },
        "outputId": "7a8ab8e9-9098-453e-da3a-8e1499bdca1a"
      },
      "outputs": [
        {
          "output_type": "stream",
          "name": "stderr",
          "text": [
            "/usr/local/lib/python3.10/dist-packages/sklearn/linear_model/_sag.py:350: ConvergenceWarning: The max_iter was reached which means the coef_ did not converge\n",
            "  warnings.warn(\n"
          ]
        },
        {
          "output_type": "execute_result",
          "data": {
            "text/plain": [
              "LogisticRegression(solver='sag')"
            ],
            "text/html": [
              "<style>#sk-container-id-1 {color: black;background-color: white;}#sk-container-id-1 pre{padding: 0;}#sk-container-id-1 div.sk-toggleable {background-color: white;}#sk-container-id-1 label.sk-toggleable__label {cursor: pointer;display: block;width: 100%;margin-bottom: 0;padding: 0.3em;box-sizing: border-box;text-align: center;}#sk-container-id-1 label.sk-toggleable__label-arrow:before {content: \"▸\";float: left;margin-right: 0.25em;color: #696969;}#sk-container-id-1 label.sk-toggleable__label-arrow:hover:before {color: black;}#sk-container-id-1 div.sk-estimator:hover label.sk-toggleable__label-arrow:before {color: black;}#sk-container-id-1 div.sk-toggleable__content {max-height: 0;max-width: 0;overflow: hidden;text-align: left;background-color: #f0f8ff;}#sk-container-id-1 div.sk-toggleable__content pre {margin: 0.2em;color: black;border-radius: 0.25em;background-color: #f0f8ff;}#sk-container-id-1 input.sk-toggleable__control:checked~div.sk-toggleable__content {max-height: 200px;max-width: 100%;overflow: auto;}#sk-container-id-1 input.sk-toggleable__control:checked~label.sk-toggleable__label-arrow:before {content: \"▾\";}#sk-container-id-1 div.sk-estimator input.sk-toggleable__control:checked~label.sk-toggleable__label {background-color: #d4ebff;}#sk-container-id-1 div.sk-label input.sk-toggleable__control:checked~label.sk-toggleable__label {background-color: #d4ebff;}#sk-container-id-1 input.sk-hidden--visually {border: 0;clip: rect(1px 1px 1px 1px);clip: rect(1px, 1px, 1px, 1px);height: 1px;margin: -1px;overflow: hidden;padding: 0;position: absolute;width: 1px;}#sk-container-id-1 div.sk-estimator {font-family: monospace;background-color: #f0f8ff;border: 1px dotted black;border-radius: 0.25em;box-sizing: border-box;margin-bottom: 0.5em;}#sk-container-id-1 div.sk-estimator:hover {background-color: #d4ebff;}#sk-container-id-1 div.sk-parallel-item::after {content: \"\";width: 100%;border-bottom: 1px solid gray;flex-grow: 1;}#sk-container-id-1 div.sk-label:hover label.sk-toggleable__label {background-color: #d4ebff;}#sk-container-id-1 div.sk-serial::before {content: \"\";position: absolute;border-left: 1px solid gray;box-sizing: border-box;top: 0;bottom: 0;left: 50%;z-index: 0;}#sk-container-id-1 div.sk-serial {display: flex;flex-direction: column;align-items: center;background-color: white;padding-right: 0.2em;padding-left: 0.2em;position: relative;}#sk-container-id-1 div.sk-item {position: relative;z-index: 1;}#sk-container-id-1 div.sk-parallel {display: flex;align-items: stretch;justify-content: center;background-color: white;position: relative;}#sk-container-id-1 div.sk-item::before, #sk-container-id-1 div.sk-parallel-item::before {content: \"\";position: absolute;border-left: 1px solid gray;box-sizing: border-box;top: 0;bottom: 0;left: 50%;z-index: -1;}#sk-container-id-1 div.sk-parallel-item {display: flex;flex-direction: column;z-index: 1;position: relative;background-color: white;}#sk-container-id-1 div.sk-parallel-item:first-child::after {align-self: flex-end;width: 50%;}#sk-container-id-1 div.sk-parallel-item:last-child::after {align-self: flex-start;width: 50%;}#sk-container-id-1 div.sk-parallel-item:only-child::after {width: 0;}#sk-container-id-1 div.sk-dashed-wrapped {border: 1px dashed gray;margin: 0 0.4em 0.5em 0.4em;box-sizing: border-box;padding-bottom: 0.4em;background-color: white;}#sk-container-id-1 div.sk-label label {font-family: monospace;font-weight: bold;display: inline-block;line-height: 1.2em;}#sk-container-id-1 div.sk-label-container {text-align: center;}#sk-container-id-1 div.sk-container {/* jupyter's `normalize.less` sets `[hidden] { display: none; }` but bootstrap.min.css set `[hidden] { display: none !important; }` so we also need the `!important` here to be able to override the default hidden behavior on the sphinx rendered scikit-learn.org. See: https://github.com/scikit-learn/scikit-learn/issues/21755 */display: inline-block !important;position: relative;}#sk-container-id-1 div.sk-text-repr-fallback {display: none;}</style><div id=\"sk-container-id-1\" class=\"sk-top-container\"><div class=\"sk-text-repr-fallback\"><pre>LogisticRegression(solver=&#x27;sag&#x27;)</pre><b>In a Jupyter environment, please rerun this cell to show the HTML representation or trust the notebook. <br />On GitHub, the HTML representation is unable to render, please try loading this page with nbviewer.org.</b></div><div class=\"sk-container\" hidden><div class=\"sk-item\"><div class=\"sk-estimator sk-toggleable\"><input class=\"sk-toggleable__control sk-hidden--visually\" id=\"sk-estimator-id-1\" type=\"checkbox\" checked><label for=\"sk-estimator-id-1\" class=\"sk-toggleable__label sk-toggleable__label-arrow\">LogisticRegression</label><div class=\"sk-toggleable__content\"><pre>LogisticRegression(solver=&#x27;sag&#x27;)</pre></div></div></div></div></div>"
            ]
          },
          "metadata": {},
          "execution_count": 17
        }
      ],
      "source": [
        "from sklearn.linear_model import LogisticRegression\n",
        "# training code\n",
        "model = LogisticRegression(solver=\"sag\")\n",
        "model.fit(X_train, y_train)"
      ]
    },
    {
      "cell_type": "markdown",
      "metadata": {
        "id": "56DN8mXy65Ri"
      },
      "source": [
        "### Evaluation I"
      ]
    },
    {
      "cell_type": "markdown",
      "metadata": {
        "id": "MWfga12HuDNW"
      },
      "source": [
        "Show the accuracy of the model on the test dataset:"
      ]
    },
    {
      "cell_type": "code",
      "source": [
        "test_accuracy = model.score(X_test, y_test)\n",
        "print(\"The test accuracy is\", round(test_accuracy, 3))"
      ],
      "metadata": {
        "colab": {
          "base_uri": "https://localhost:8080/"
        },
        "id": "9kU_bnCyMfj0",
        "outputId": "5093cd67-4d7c-416f-8341-fe16a309a8b9"
      },
      "execution_count": 18,
      "outputs": [
        {
          "output_type": "stream",
          "name": "stdout",
          "text": [
            "The test accuracy is 0.916\n"
          ]
        }
      ]
    },
    {
      "cell_type": "markdown",
      "metadata": {
        "id": "04RWxwgb665v"
      },
      "source": [
        "### `predict` function"
      ]
    },
    {
      "cell_type": "markdown",
      "metadata": {
        "id": "9WiQVDBCuRuZ"
      },
      "source": [
        "Implement the function `predict`, that returns predictions to a sequence of bios given as list/pandas series of strings. You will need to use this function in class."
      ]
    },
    {
      "cell_type": "code",
      "source": [
        "from typing import List, Union"
      ],
      "metadata": {
        "id": "lCEzAyzmOiVU"
      },
      "execution_count": 19,
      "outputs": []
    },
    {
      "cell_type": "code",
      "execution_count": 20,
      "metadata": {
        "id": "Ow1Px6gtuh14"
      },
      "outputs": [],
      "source": [
        "def predict(model: LogisticRegression,\n",
        "            bios: Union[List[str], pd.Series],\n",
        "            vectorizer: CountVectorizer) -> np.ndarray:\n",
        "            X_test = vectorizer.transform(bios)\n",
        "            return model.predict(X_test)"
      ]
    },
    {
      "cell_type": "markdown",
      "metadata": {
        "id": "G5Kd4XUavGvu"
      },
      "source": [
        "Demonstrate that your `predict` function works, **show the inputs and the predicted output** of a few examples:"
      ]
    },
    {
      "cell_type": "code",
      "execution_count": 21,
      "metadata": {
        "id": "meXGMwtGvJqm",
        "colab": {
          "base_uri": "https://localhost:8080/"
        },
        "outputId": "82cfcd6e-2520-48ff-977f-37608d62aaf8"
      },
      "outputs": [
        {
          "output_type": "stream",
          "name": "stdout",
          "text": [
            "text:\n",
            " He has worked at the University of Valencia, at the European Commission’s Anti-Fraud Office in Brussels, and the Legal Department of the International Monetary Fund’s Financial Integrity Group, and most recently at the Inter-American Development Bank, both in Washington, D.C. He currently works at the Fiscal Department of Uría Menéndez Abogados, S.L.P in Barcelona (Spain). He may be contacted at alberto.gil@uria.com. Contributions include chapter 1: Background and Current Status of FATCA, chapter 15: Framework of Intergovernmental Agreements, chapter 18: The OECD Role in Exchange of Information: the Trace Project, FATCA, and Beyond, and chapter 28: Exchange of Tax Information and the Impact of FATCA for Spain.\n",
            "predicted label: attorney\n",
            "true label: attorney\n",
            "\n",
            "text:\n",
            " Nick Romano is his client, a young man with a long string of crimes behind him. Romano, after turning to robbery again, is caught by a cop and Nick pumps all his bullets into him in frustration. Morton's appeal to the court emphasizes the evils of the slums...\n",
            "predicted label: attorney\n",
            "true label: attorney\n",
            "\n",
            "text:\n",
            " In this position, he has written several best-selling books - Scattered Minds and When the Body Says No have been translated into nine languages– and has become a regular columnist for the Vancouver Sun and the Globe and Mail.\n",
            "predicted label: psychologist\n",
            "true label: physician\n",
            "\n",
            "text:\n",
            " His research focuses on using traditional and new digital media to provide health education to audiences of all levels, interests, and familiarity with health. Mackert is an advocate of using advertising principles in public health campaigns. In this podcast, he talks about:\n",
            "predicted label: professor\n",
            "true label: professor\n",
            "\n",
            "text:\n",
            " His music to the period supernatural film The Awakening (2011) caught the ear of Ridley Scott, who, having decided Pemberton had done his ’10,000 hours in the garage’ through countless years working in British television, advertising and videogames, hired him to score his latest feature The Counselor (2013). He collaborated again with Scott on the director’s first foray into television – The Vatican (2014).\n",
            "predicted label: composer\n",
            "true label: composer\n",
            "\n",
            "text:\n",
            " His exhibitions include woven and 3-D photographs as well as solarized and Diana prints. He is presently an artist’s associate at The Ink Shop in Ithaca, New York . His education includes graduate courses in film-making and television production and a photography course(passed with distinction) at Oxford Polytechnic(now Brookes University) in England. In addition, he taught photography for seven years at West Oxfordshire Technical College in England.\n",
            "predicted label: photographer\n",
            "true label: photographer\n",
            "\n",
            "text:\n",
            " He received his Ph.D. degree in 2010 from The University of New South Wales. His research interests include hypersonic flows, high-speed ground-tests, and non-equilibrium gas-surface interaction.\n",
            "predicted label: professor\n",
            "true label: professor\n",
            "\n",
            "text:\n",
            " Since winning the competition in 2014, he has gone on to create design spaces that are both beautiful and functional. Donald has designed everything from residential spaces, corporate offices, to boutiques and high-end hotels.\n",
            "predicted label: interior_designer\n",
            "true label: interior_designer\n",
            "\n",
            "text:\n",
            " His work has appeared in several marketing and tourism journals, such as Journal of Marketing, Tourism Management, Journal of Travel Research, Annals of Tourism Research, and Journal of Retailing.\n",
            "predicted label: professor\n",
            "true label: professor\n",
            "\n",
            "text:\n",
            " He was supported at the 2017 Sundance Institute Screenwriters Lab, 2018 Sundance Institute Directors Lab, and has been a recipient of numerous grants and fellowships from the Sundance Institute, Time Warner Foundation, Cinereach, and the Minnesota State Arts Board. His first feature, WILD INDIAN, is currently in development.\n",
            "predicted label: filmmaker\n",
            "true label: filmmaker\n",
            "\n"
          ]
        }
      ],
      "source": [
        "# using predict function\n",
        "sample = test_df.bio[:10]\n",
        "preds = predict(model, sample, vectorizer)\n",
        "labels = le.inverse_transform(preds)\n",
        "for i in range(len(sample)):\n",
        "  print(f\"text:\\n{sample[i]}\")\n",
        "  print(f\"predicted label: {labels[i]}\")\n",
        "  print(f\"true label: {test_df.occupation[i]}\")\n",
        "  print()"
      ]
    },
    {
      "cell_type": "markdown",
      "metadata": {
        "id": "yXCJ3CMVWaMe"
      },
      "source": [
        "### Evaluation II"
      ]
    },
    {
      "cell_type": "markdown",
      "metadata": {
        "id": "UcO_ynHgWaMe"
      },
      "source": [
        "Show the accuracy-per-class on the test dataset:"
      ]
    },
    {
      "cell_type": "code",
      "execution_count": 22,
      "metadata": {
        "id": "jdfgHKjFWaMe",
        "colab": {
          "base_uri": "https://localhost:8080/"
        },
        "outputId": "fa22e55c-3cc4-4b73-a29f-989302809f5c"
      },
      "outputs": [
        {
          "output_type": "stream",
          "name": "stdout",
          "text": [
            "accuracy for accountant = 0.927\n",
            "accuracy for architect = 0.896\n",
            "accuracy for attorney = 0.962\n",
            "accuracy for chiropractor = 0.909\n",
            "accuracy for comedian = 0.915\n",
            "accuracy for composer = 0.96\n",
            "accuracy for dentist = 0.979\n",
            "accuracy for dietitian = 0.953\n",
            "accuracy for dj = 0.908\n",
            "accuracy for filmmaker = 0.933\n",
            "accuracy for interior_designer = 0.915\n",
            "accuracy for journalist = 0.933\n",
            "accuracy for model = 0.926\n",
            "accuracy for nurse = 0.902\n",
            "accuracy for painter = 0.942\n",
            "accuracy for paralegal = 0.88\n",
            "accuracy for pastor = 0.871\n",
            "accuracy for personal_trainer = 0.891\n",
            "accuracy for photographer = 0.966\n",
            "accuracy for physician = 0.89\n",
            "accuracy for poet = 0.927\n",
            "accuracy for professor = 0.826\n",
            "accuracy for psychologist = 0.904\n",
            "accuracy for rapper = 0.923\n",
            "accuracy for software_engineer = 0.901\n",
            "accuracy for surgeon = 0.935\n",
            "accuracy for teacher = 0.865\n",
            "accuracy for yoga_teacher = 0.942\n"
          ]
        }
      ],
      "source": [
        "from sklearn.metrics import accuracy_score\n",
        "# evaluation code 2\n",
        "\n",
        "for group_name, df in test_df.groupby(\"occupation\"):\n",
        "  y_pred = predict(model, df.bio, vectorizer=vectorizer)\n",
        "  y_true = le.transform(df.occupation)\n",
        "  acc = accuracy_score(y_true, y_pred)\n",
        "  print(f\"accuracy for {group_name} = {round(acc, 3)}\")"
      ]
    },
    {
      "cell_type": "markdown",
      "metadata": {
        "id": "v9aY0EwZWaMe"
      },
      "source": [
        "### Evaluation III"
      ]
    },
    {
      "cell_type": "markdown",
      "metadata": {
        "id": "ReLFxVJ0WaMe"
      },
      "source": [
        "Now, show the **Acceptance Rate**, **False Positive Rate** and **False Negative Rate** of each occupation.\n",
        "\n",
        "Bonus: use the Seaborn's `PairPlot` + dot plot to plot it [demo](https://seaborn.pydata.org/examples/pairgrid_dotplot.html).\n",
        "\n",
        "\n",
        "#### Confusion Matrix\n",
        "\n",
        "Actual class/Predicted class | P | N\n",
        "-----------------------------|---|--------------\n",
        "P       | **TP** | FN\n",
        "N     | FP | **TN**\n",
        "\n",
        "\n",
        "#### Metric Definitions\n",
        "\n",
        "\n",
        "**Acceptance Rate**\n",
        "\n",
        "${\\displaystyle \\mathrm {AR}\n",
        "= {\\frac{\\mathrm {TP + FP}}{\\mathrm {TP+FN+FP+TN}}}}$\n",
        "\n",
        "\n",
        "**False negative rate (FNR)**\n",
        "\n",
        "${\\displaystyle \\mathrm {FNR} = {\\frac {\\mathrm {FN} }{\\mathrm {FN} +\\mathrm {TP} }}}$\n",
        "\n",
        "**False Positive Rate (FPR)**\n",
        "\n",
        "${\\displaystyle \\mathrm {FPR} = {\\frac {\\mathrm {FP} }{\\mathrm {FP} +\\mathrm {TN} }}}$"
      ]
    },
    {
      "cell_type": "code",
      "execution_count": 23,
      "metadata": {
        "id": "1emAzqpQWaMf",
        "colab": {
          "base_uri": "https://localhost:8080/"
        },
        "outputId": "cf49dd0a-cf86-4e4f-f418-5bf3d1965b06"
      },
      "outputs": [
        {
          "output_type": "stream",
          "name": "stdout",
          "text": [
            "Class: accountant\n",
            "Acceptance Rate (AR): 0.019\n",
            "False Negative Rate (FNR): 0.073\n",
            "False Positive Rate (FPR): 0.0\n",
            "\n",
            "Class: architect\n",
            "Acceptance Rate (AR): 0.035\n",
            "False Negative Rate (FNR): 0.104\n",
            "False Positive Rate (FPR): 0.0\n",
            "\n",
            "Class: attorney\n",
            "Acceptance Rate (AR): 0.118\n",
            "False Negative Rate (FNR): 0.038\n",
            "False Positive Rate (FPR): 0.0\n",
            "\n",
            "Class: chiropractor\n",
            "Acceptance Rate (AR): 0.007\n",
            "False Negative Rate (FNR): 0.091\n",
            "False Positive Rate (FPR): 0.0\n",
            "\n",
            "Class: comedian\n",
            "Acceptance Rate (AR): 0.009\n",
            "False Negative Rate (FNR): 0.085\n",
            "False Positive Rate (FPR): 0.0\n",
            "\n",
            "Class: composer\n",
            "Acceptance Rate (AR): 0.022\n",
            "False Negative Rate (FNR): 0.04\n",
            "False Positive Rate (FPR): 0.0\n",
            "\n",
            "Class: dentist\n",
            "Acceptance Rate (AR): 0.034\n",
            "False Negative Rate (FNR): 0.021\n",
            "False Positive Rate (FPR): 0.0\n",
            "\n",
            "Class: dietitian\n",
            "Acceptance Rate (AR): 0.013\n",
            "False Negative Rate (FNR): 0.047\n",
            "False Positive Rate (FPR): 0.0\n",
            "\n",
            "Class: dj\n",
            "Acceptance Rate (AR): 0.005\n",
            "False Negative Rate (FNR): 0.092\n",
            "False Positive Rate (FPR): 0.0\n",
            "\n",
            "Class: filmmaker\n",
            "Acceptance Rate (AR): 0.026\n",
            "False Negative Rate (FNR): 0.067\n",
            "False Positive Rate (FPR): 0.0\n",
            "\n",
            "Class: interior_designer\n",
            "Acceptance Rate (AR): 0.005\n",
            "False Negative Rate (FNR): 0.085\n",
            "False Positive Rate (FPR): 0.0\n",
            "\n",
            "Class: journalist\n",
            "Acceptance Rate (AR): 0.076\n",
            "False Negative Rate (FNR): 0.067\n",
            "False Positive Rate (FPR): 0.0\n",
            "\n",
            "Class: model\n",
            "Acceptance Rate (AR): 0.021\n",
            "False Negative Rate (FNR): 0.074\n",
            "False Positive Rate (FPR): 0.0\n",
            "\n",
            "Class: nurse\n",
            "Acceptance Rate (AR): 0.033\n",
            "False Negative Rate (FNR): 0.098\n",
            "False Positive Rate (FPR): 0.0\n",
            "\n",
            "Class: painter\n",
            "Acceptance Rate (AR): 0.029\n",
            "False Negative Rate (FNR): 0.058\n",
            "False Positive Rate (FPR): 0.0\n",
            "\n",
            "Class: paralegal\n",
            "Acceptance Rate (AR): 0.006\n",
            "False Negative Rate (FNR): 0.12\n",
            "False Positive Rate (FPR): 0.0\n",
            "\n",
            "Class: pastor\n",
            "Acceptance Rate (AR): 0.008\n",
            "False Negative Rate (FNR): 0.129\n",
            "False Positive Rate (FPR): 0.0\n",
            "\n",
            "Class: personal_trainer\n",
            "Acceptance Rate (AR): 0.004\n",
            "False Negative Rate (FNR): 0.109\n",
            "False Positive Rate (FPR): 0.0\n",
            "\n",
            "Class: photographer\n",
            "Acceptance Rate (AR): 0.094\n",
            "False Negative Rate (FNR): 0.034\n",
            "False Positive Rate (FPR): 0.0\n",
            "\n",
            "Class: physician\n",
            "Acceptance Rate (AR): 0.046\n",
            "False Negative Rate (FNR): 0.11\n",
            "False Positive Rate (FPR): 0.0\n",
            "\n",
            "Class: poet\n",
            "Acceptance Rate (AR): 0.028\n",
            "False Negative Rate (FNR): 0.073\n",
            "False Positive Rate (FPR): 0.0\n",
            "\n",
            "Class: professor\n",
            "Acceptance Rate (AR): 0.099\n",
            "False Negative Rate (FNR): 0.174\n",
            "False Positive Rate (FPR): 0.0\n",
            "\n",
            "Class: psychologist\n",
            "Acceptance Rate (AR): 0.054\n",
            "False Negative Rate (FNR): 0.096\n",
            "False Positive Rate (FPR): 0.0\n",
            "\n",
            "Class: rapper\n",
            "Acceptance Rate (AR): 0.004\n",
            "False Negative Rate (FNR): 0.077\n",
            "False Positive Rate (FPR): 0.0\n",
            "\n",
            "Class: software_engineer\n",
            "Acceptance Rate (AR): 0.024\n",
            "False Negative Rate (FNR): 0.099\n",
            "False Positive Rate (FPR): 0.0\n",
            "\n",
            "Class: surgeon\n",
            "Acceptance Rate (AR): 0.039\n",
            "False Negative Rate (FNR): 0.065\n",
            "False Positive Rate (FPR): 0.0\n",
            "\n",
            "Class: teacher\n",
            "Acceptance Rate (AR): 0.05\n",
            "False Negative Rate (FNR): 0.135\n",
            "False Positive Rate (FPR): 0.0\n",
            "\n",
            "Class: yoga_teacher\n",
            "Acceptance Rate (AR): 0.006\n",
            "False Negative Rate (FNR): 0.058\n",
            "False Positive Rate (FPR): 0.0\n",
            "\n"
          ]
        }
      ],
      "source": [
        "from sklearn.metrics import confusion_matrix\n",
        "# evaluation code 3\n",
        "y_pred = model.predict(X_test)\n",
        "cf_matrix = confusion_matrix(y_test, y_pred)\n",
        "n = cf_matrix.shape[0]\n",
        "\n",
        "for i in range(n):\n",
        "  tp = cf_matrix[i][i]\n",
        "  fn = 0\n",
        "  fp = 0\n",
        "  for j in range(n):\n",
        "    if j == i:\n",
        "      continue\n",
        "    fn += cf_matrix[i][j]\n",
        "    fp = cf_matrix[j][i]\n",
        "  tn = len(y_pred) - tp - fn - fp\n",
        "\n",
        "  ar = (tp + fp) / (tp + fn + fp + tn)\n",
        "  fnr = fn / (fn + tp)\n",
        "  fpr = fp / (fp + tn)\n",
        "\n",
        "  class_label = le.classes_[i]\n",
        "  print(f\"Class: {class_label}\")\n",
        "  print(f\"Acceptance Rate (AR): {round(ar, 3)}\")\n",
        "  print(f\"False Negative Rate (FNR): {round(fnr, 3)}\")\n",
        "  print(f\"False Positive Rate (FPR): {round(fpr, 3)}\")\n",
        "  print()"
      ]
    },
    {
      "cell_type": "markdown",
      "metadata": {
        "id": "nITerUlNwto5"
      },
      "source": [
        "## That's all!\n",
        "\n",
        "If you found a mistake / problem in this notebook, or something was unclear, please post at the `#ds` channel.\n",
        "\n",
        "**Prepare to explain to your team about this data and the model you've trained.**\n",
        "\n",
        "### Submission\n",
        "\n",
        "1. Save the notebook as a pdf file (In Colab: File > Print)\n",
        "2. Upload in Gradescope http://go.responsibly.ai/gradescope"
      ]
    }
  ],
  "metadata": {
    "colab": {
      "provenance": [],
      "include_colab_link": true
    },
    "kernel_info": {
      "name": "python3"
    },
    "kernelspec": {
      "display_name": "Python 3 (ipykernel)",
      "language": "python",
      "name": "python3"
    },
    "language_info": {
      "codemirror_mode": {
        "name": "ipython",
        "version": 3
      },
      "file_extension": ".py",
      "mimetype": "text/x-python",
      "name": "python",
      "nbconvert_exporter": "python",
      "pygments_lexer": "ipython3",
      "version": "3.11.0"
    },
    "nteract": {
      "version": "0.12.3"
    }
  },
  "nbformat": 4,
  "nbformat_minor": 0
}